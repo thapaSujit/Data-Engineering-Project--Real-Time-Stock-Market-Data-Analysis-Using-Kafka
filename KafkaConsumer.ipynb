{
 "cells": [
  {
   "cell_type": "code",
   "execution_count": null,
   "id": "dc89caee",
   "metadata": {},
   "outputs": [],
   "source": [
    "# Install the s3fs and kafka-python libraries using pip\n",
    "pip install s3fs"
   ]
  },
  {
   "cell_type": "code",
   "execution_count": null,
   "id": "b6675043",
   "metadata": {},
   "outputs": [],
   "source": [
    "# Import necessary libraries and modules\n",
    "from kafka import KafkaConsumer\n",
    "from time import sleep\n",
    "from json import dumps, loads\n",
    "import json\n",
    "from s3fs import S3FileSystem"
   ]
  },
  {
   "cell_type": "code",
   "execution_count": null,
   "id": "9eeff3ef",
   "metadata": {},
   "outputs": [],
   "source": [
    "# Set up a Kafka consumer with specified bootstrap servers and deserializer for consumed messages\n",
    "# Replace ':9092' with the actual IP address and port of your Kafka broker\n",
    "consumer = KafkaConsumer(\n",
    "    'StockData',\n",
    "    bootstrap_servers=[':9092'],\n",
    "    value_deserializer=lambda x: loads(x.decode('utf-8'))\n",
    ")"
   ]
  },
  {
   "cell_type": "code",
   "execution_count": null,
   "id": "8d60dc6c",
   "metadata": {},
   "outputs": [],
   "source": [
    "# Create an S3FileSystem instance to interact with Amazon S3\n",
    "s3 = S3FileSystem()"
   ]
  },
  {
   "cell_type": "code",
   "execution_count": null,
   "id": "0f135e81",
   "metadata": {},
   "outputs": [],
   "source": [
    "# Iterate over messages consumed from the Kafka topic 'StockData'\n",
    "for count, message in enumerate(consumer):\n",
    "    # Open a file on Amazon S3 with a unique name based on the count\n",
    "    with s3.open(\"s3://kafka-stock-market-project/stock_market_{}.json\".format(count), 'w') as file:\n",
    "        # Write the consumed message value (stock data) to the file in JSON format\n",
    "        json.dump(message.value, file)"
   ]
  }
 ],
 "metadata": {
  "kernelspec": {
   "display_name": "Python 3 (ipykernel)",
   "language": "python",
   "name": "python3"
  },
  "language_info": {
   "codemirror_mode": {
    "name": "ipython",
    "version": 3
   },
   "file_extension": ".py",
   "mimetype": "text/x-python",
   "name": "python",
   "nbconvert_exporter": "python",
   "pygments_lexer": "ipython3",
   "version": "3.10.0"
  }
 },
 "nbformat": 4,
 "nbformat_minor": 5
}
