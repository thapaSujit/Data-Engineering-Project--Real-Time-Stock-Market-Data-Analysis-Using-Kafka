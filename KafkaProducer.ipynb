{
 "cells": [
  {
   "cell_type": "code",
   "execution_count": null,
   "id": "e2d3f594",
   "metadata": {},
   "outputs": [],
   "source": [
    "# Install the kafka-python library using pip\n",
    "pip install kafka-python"
   ]
  },
  {
   "cell_type": "code",
   "execution_count": null,
   "id": "f19405f0",
   "metadata": {},
   "outputs": [],
   "source": [
    "# Import necessary libraries and modules\n",
    "import pandas as pd\n",
    "from kafka import KafkaProducer\n",
    "from time import sleep\n",
    "from json import dumps\n",
    "import json"
   ]
  },
  {
   "cell_type": "code",
   "execution_count": null,
   "id": "b483a0e4",
   "metadata": {},
   "outputs": [],
   "source": [
    "# Set up a Kafka producer with specified bootstrap servers\n",
    "# Replace ':9092' with the actual IP address and port of your Kafka broker\n",
    "\n",
    "producer = KafkaProducer(bootstrap_servers=[':9092'],\n",
    "                         value_serializer=lambda x: \n",
    "                         dumps(x).encode('utf-8'))"
   ]
  },
  {
   "cell_type": "code",
   "execution_count": null,
   "id": "cc8d45aa",
   "metadata": {},
   "outputs": [],
   "source": [
    "# Read a CSV file containing processed stock market data into a Pandas DataFrame\n",
    "df = pd.read_csv(\"data/indexProcessed.csv\")"
   ]
  },
  {
   "cell_type": "code",
   "execution_count": null,
   "id": "113a2516",
   "metadata": {},
   "outputs": [],
   "source": [
    "# Display the first few rows of the DataFrame\n",
    "df.head()"
   ]
  },
  {
   "cell_type": "code",
   "execution_count": null,
   "id": "4c7ec0be",
   "metadata": {},
   "outputs": [],
   "source": [
    "# Continuously produce and send stock data to a Kafka topic named 'StockData'\n",
    "while True:\n",
    "    # Select a random row from the DataFrame and convert it to a dictionary\n",
    "    dict_stock = df.sample(1).to_dict(orient=\"records\")[0]\n",
    "\n",
    "    # Send the selected stock data to the Kafka topic\n",
    "    producer.send('StockData', value=dict_stock)\n",
    "\n",
    "    # Uncomment the line below if you want to introduce a delay (e.g., sleep for 1 second) between messages\n",
    "    # sleep(1)"
   ]
  },
  {
   "cell_type": "code",
   "execution_count": null,
   "id": "ed71c0e4",
   "metadata": {},
   "outputs": [],
   "source": [
    "# Flush the producer to ensure all pending messages are sent to the Kafka server\n",
    "producer.flush()"
   ]
  }
 ],
 "metadata": {
  "kernelspec": {
   "display_name": "Python 3 (ipykernel)",
   "language": "python",
   "name": "python3"
  },
  "language_info": {
   "codemirror_mode": {
    "name": "ipython",
    "version": 3
   },
   "file_extension": ".py",
   "mimetype": "text/x-python",
   "name": "python",
   "nbconvert_exporter": "python",
   "pygments_lexer": "ipython3",
   "version": "3.10.0"
  }
 },
 "nbformat": 4,
 "nbformat_minor": 5
}
